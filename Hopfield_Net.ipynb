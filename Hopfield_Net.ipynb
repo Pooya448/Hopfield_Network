{
 "cells": [
  {
   "cell_type": "markdown",
   "metadata": {},
   "source": [
    "# Section One: Hopfield Network"
   ]
  },
  {
   "cell_type": "markdown",
   "metadata": {},
   "source": [
    "## 1.3. Storing Pattern"
   ]
  },
  {
   "cell_type": "code",
   "execution_count": 6,
   "metadata": {},
   "outputs": [],
   "source": [
    "import numpy as np\n",
    "import matplotlib.pyplot as plt"
   ]
  },
  {
   "cell_type": "code",
   "execution_count": 7,
   "metadata": {},
   "outputs": [],
   "source": [
    "weights = np.ndarray((4, 4), dtype=int, buffer=np.full(16, 0))\n",
    "\n",
    "patterns = [[1, 1, 1, 1], [-1, -1, -1, -1], [1, 1, -1, -1], [-1, -1, 1, 1]]"
   ]
  },
  {
   "cell_type": "code",
   "execution_count": 8,
   "metadata": {},
   "outputs": [
    {
     "name": "stdout",
     "output_type": "stream",
     "text": [
      "[[-50   4   0   0]\n",
      " [  4 -50   0   0]\n",
      " [  0   0 -50   4]\n",
      " [  0   0   4 -50]]\n"
     ]
    }
   ],
   "source": [
    "for pattern in patterns: \n",
    "    for i in range(4):\n",
    "        for j in range(4): \n",
    "            if i == j:\n",
    "                weights[i, j] = -50\n",
    "                break\n",
    "            weights[i, j] += pattern[i] * pattern[j]\n",
    "            weights[j, i] = weights[i, j]\n",
    "            \n",
    "print(weights)"
   ]
  },
  {
   "cell_type": "code",
   "execution_count": 9,
   "metadata": {},
   "outputs": [
    {
     "name": "stdout",
     "output_type": "stream",
     "text": [
      "[[1, 1, -1, 1], [1, 1, -1, -1], [1, 1, 1, 1], [1, 1, 1, -1], [1, -1, -1, 1], [1, -1, -1, -1], [1, -1, 1, 1], [1, -1, 1, -1], [-1, 1, -1, 1], [-1, 1, -1, -1], [-1, 1, 1, 1], [-1, 1, 1, -1], [-1, -1, -1, 1], [-1, -1, -1, -1], [-1, -1, 1, 1], [-1, -1, 1, -1]]\n",
      "[0, -8, -8, 0, 8, 0, 0, 8, 8, 0, 0, 8, 0, -8, -8, 0]\n"
     ]
    }
   ],
   "source": [
    "patterns_test = [\n",
    "    [1, 1, -1, 1],\n",
    "    [1, 1, -1, -1],\n",
    "    [1, 1, 1, 1],\n",
    "    [1, 1, 1, -1],\n",
    "    [1, -1, -1, 1],\n",
    "    [1, -1, -1, -1],\n",
    "    [1, -1, 1, 1],\n",
    "    [1, -1, 1, -1],\n",
    "    [-1, 1, -1, 1],\n",
    "    [-1, 1, -1, -1],\n",
    "    [-1, 1, 1, 1],\n",
    "    [-1, 1, 1, -1],\n",
    "    [-1, -1, -1, 1],\n",
    "    [-1, -1, -1, -1],\n",
    "    [-1, -1, 1, 1],\n",
    "    [-1, -1, 1, -1]\n",
    "]\n",
    "Energy = []\n",
    "\n",
    "for pattern in patterns_test:\n",
    "    Energy.append(0)\n",
    "    for i in range(4):\n",
    "        for j in range(i):\n",
    "            Energy[-1] -= weights[i][j] * pattern[i] * pattern[j]\n",
    "            \n",
    "print(patterns_test)         \n",
    "print(Energy)"
   ]
  },
  {
   "cell_type": "markdown",
   "metadata": {},
   "source": [
    "    - As can be seen, the 4 patterns have the minimum energy (-8), So they are storable in the network."
   ]
  },
  {
   "cell_type": "markdown",
   "metadata": {},
   "source": [
    "## 1.4. Design Hopfield Network"
   ]
  },
  {
   "cell_type": "code",
   "execution_count": 10,
   "metadata": {},
   "outputs": [],
   "source": [
    "import numpy as np\n",
    "import matplotlib.pyplot as plt"
   ]
  },
  {
   "cell_type": "code",
   "execution_count": 11,
   "metadata": {},
   "outputs": [],
   "source": [
    "def sign(X):\n",
    "    if X < 0:\n",
    "        return -1\n",
    "    else:\n",
    "        return 1"
   ]
  },
  {
   "cell_type": "code",
   "execution_count": 12,
   "metadata": {},
   "outputs": [],
   "source": [
    "patterns = [[1, 1, 1, -1, -1, -1], [1, -1, 1, -1, 1, -1]]\n",
    "weights = np.ndarray((6, 6), dtype=int, buffer=np.full(36, 0))"
   ]
  },
  {
   "cell_type": "code",
   "execution_count": 17,
   "metadata": {},
   "outputs": [
    {
     "name": "stdout",
     "output_type": "stream",
     "text": [
      "6\n",
      "6\n"
     ]
    }
   ],
   "source": [
    "for pattern in patterns:\n",
    "    print(len(pattern))\n",
    "    for i in range(len(pattern)):\n",
    "        for j in range(len(pattern)):\n",
    "            if i == j:\n",
    "                weights[i, j] = -50\n",
    "                break\n",
    "            weights[i, j] += pattern[i] * pattern[j]\n",
    "            weights[j, i] = weights[i, j]"
   ]
  },
  {
   "cell_type": "code",
   "execution_count": 19,
   "metadata": {},
   "outputs": [
    {
     "name": "stdout",
     "output_type": "stream",
     "text": [
      "[[1, 1, 1, -1, -1, -1], [1, -1, 1, -1, 1, -1], [1, 1, 1, -1, -1, -1]]\n"
     ]
    }
   ],
   "source": [
    "def is_pattern_stable(pattern, weights): \n",
    "    final = []\n",
    "    temp_sum = []\n",
    "#     print(len(pattern))\n",
    "    for i in range(len(pattern)):\n",
    "        temp_sum = []\n",
    "        for j in range(len(weights[i])):\n",
    "            if i == j: \n",
    "                continue\n",
    "            temp_sum.append(pattern[j] * weights[i][j]) \n",
    "        final.append(sign(np.sum(temp_sum)))\n",
    "    return final\n",
    "\n",
    "patterns_test = [\n",
    "    [1, 1, 1, -1, -1, -1],\n",
    "    [1, -1, 1, -1, 1, -1],\n",
    "    [-1, 1, 1, -1, -1, -1],\n",
    "]\n",
    "outputs = []\n",
    "for pattern in patterns_test:\n",
    "    outputs.append(is_pattern_stable(pattern, weights))\n",
    "\n",
    "# print(patterns_test)\n",
    "print(outputs)"
   ]
  },
  {
   "cell_type": "markdown",
   "metadata": {},
   "source": [
    "    - As we can see, output of the network for [1, 1, 1, -1, -1, -1] and [1, -1, 1, -1, 1, -1] is the same as them, so these two patterns are stable, But for [-1, 1, 1, -1, -1, -1], there is a noise in it and the network is able to remove the noise as we can see."
   ]
  },
  {
   "cell_type": "code",
   "execution_count": null,
   "metadata": {},
   "outputs": [],
   "source": []
  }
 ],
 "metadata": {
  "kernelspec": {
   "display_name": "Python 3",
   "language": "python",
   "name": "python3"
  },
  "language_info": {
   "codemirror_mode": {
    "name": "ipython",
    "version": 3
   },
   "file_extension": ".py",
   "mimetype": "text/x-python",
   "name": "python",
   "nbconvert_exporter": "python",
   "pygments_lexer": "ipython3",
   "version": "3.7.4"
  }
 },
 "nbformat": 4,
 "nbformat_minor": 2
}
